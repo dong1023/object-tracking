{
 "cells": [
  {
   "cell_type": "markdown",
   "id": "fd3430af",
   "metadata": {},
   "source": [
    "### 对opencv中三种跟踪算法进行比较，本次选择KCF、CSRT、MOSSE"
   ]
  },
  {
   "cell_type": "markdown",
   "id": "1ec370b9",
   "metadata": {},
   "source": [
    "# 一、测试视频介绍："
   ]
  },
  {
   "cell_type": "markdown",
   "id": "c83e8fd5",
   "metadata": {},
   "source": [
    "<p>1.fast：苏炳添9.83夺冠后程冲刺视频；特点：物体运动速度快、背景变化小、物体持续形变、冲刺重点有物体重合（遮挡）、存在相似目标\n",
    "<p>2.deformation：王者荣耀花木兰单杀吕布视频；特点：物体形变大，且物体光照变化，物体有部分遮挡、颜色变化大\n",
    "<p>3.face：本人人脸视频：；特点：物体移动缓慢、物体变化小，背景变化小\n",
    "<p>4.background：夜店跳舞视频；特点：背景变化、光线暗且有变化、物体有形变"
   ]
  },
  {
   "cell_type": "markdown",
   "id": "1e70a4a7",
   "metadata": {},
   "source": [
    "# 二、实验过程及代码"
   ]
  },
  {
   "cell_type": "code",
   "execution_count": 3,
   "id": "69f268e0",
   "metadata": {},
   "outputs": [
    {
     "name": "stdout",
     "output_type": "stream",
     "text": [
      "输入测试视频号是:c\n"
     ]
    }
   ],
   "source": [
    "import cv2\n",
    "import sys\n",
    "import matplotlib.pyplot as plt\n",
    "v = input('输入测试视频号是:')\n",
    "video_path = f'{v}.mp4'\n",
    "#从视频文件中读取视频\n",
    "video = cv2.VideoCapture(video_path)\n",
    "if not video.isOpened():\n",
    "    print(\"无法打开视频文件。\")\n",
    "    sys.exit()\n",
    "#记录每帧目标框的起点坐标和宽度、高度\n",
    "bboxes = []\n",
    "while True:\n",
    "    success, frame = video.read()\n",
    "    if not success:\n",
    "        break\n",
    "\n",
    "    # 在图像上选择目标框\n",
    "    bbox = cv2.selectROI(frame, False)\n",
    "\n",
    "    # 将边界框保存到列表中\n",
    "    x,y,width,height = [int(i) for i in bbox]\n",
    "    bboxes.append((x,y,width,height))\n",
    "\n",
    "    cv2.imshow(\"标注\", frame)\n",
    "    if cv2.waitKey(1) == 27:  # 按下ESC键退出\n",
    "        break\n",
    "\n",
    "cv2.destroyAllWindows()\n"
   ]
  },
  {
   "cell_type": "code",
   "execution_count": 4,
   "id": "b686ec96",
   "metadata": {},
   "outputs": [
    {
     "name": "stdout",
     "output_type": "stream",
     "text": [
      "[(521, 200, 241, 253), (530, 191, 213, 261), (497, 174, 286, 271), (511, 187, 251, 263), (554, 164, 201, 236), (547, 140, 247, 320), (0, 0, 0, 0), (0, 0, 0, 0), (0, 0, 0, 0), (0, 0, 0, 0), (0, 0, 0, 0), (0, 0, 0, 0), (0, 0, 0, 0), (0, 0, 0, 0), (0, 0, 0, 0), (0, 0, 0, 0), (0, 0, 0, 0)]\n"
     ]
    }
   ],
   "source": [
    "print(bboxes)"
   ]
  },
  {
   "cell_type": "code",
   "execution_count": 5,
   "id": "0f8a977b",
   "metadata": {},
   "outputs": [],
   "source": [
    "# 删除空格和括号，并将每个列表元组单独一行\n",
    "for bbox in bboxes:\n",
    "    bbox_str = str(bbox).replace(' ', '').replace('(', '').replace(')', '')   \n",
    "\n",
    "# 写入txt文件\n",
    "    output_path = f'bbox_gt_cleaned{v}.txt'\n",
    "\n",
    "    with open(output_path, 'a') as f:\n",
    "       \n",
    "            f.write( bbox_str+ '\\n')\n",
    "#因为是txt只能追加所以每个视频的数据集必须新建文件，否则会在上一个文化数据上追加"
   ]
  },
  {
   "cell_type": "code",
   "execution_count": 6,
   "id": "296497bb",
   "metadata": {},
   "outputs": [
    {
     "name": "stdout",
     "output_type": "stream",
     "text": [
      "测试视频：c.mp4\n",
      "算法: KCF\n",
      "平均准确率: 0.22794256422224432\n",
      "平均跟踪漂移: 8.945516751953315\n",
      "平均处理时间: 0.06592787647058825\n",
      "测试视频：c.mp4\n",
      "算法: CSRT\n",
      "平均准确率: 0.22553494621108083\n",
      "平均跟踪漂移: 8.889903439727744\n",
      "平均处理时间: 0.13204778823529412\n",
      "测试视频：c.mp4\n",
      "算法: MOSSE\n",
      "平均准确率: 0.23086425753183182\n",
      "平均跟踪漂移: 9.519618038438265\n",
      "平均处理时间: 0.006623829411764707\n"
     ]
    }
   ],
   "source": [
    "#定义计算两个边界框的交并比函数\n",
    "def calculate_iou(bbox1, bbox2):\n",
    "    # 提取边界框的坐标\n",
    "    x1, y1, w1, h1 = bbox1\n",
    "    x2, y2, w2, h2 = bbox2\n",
    "\n",
    "    # 计算边界框的面积\n",
    "    area1 = w1 * h1\n",
    "    area2 = w2 * h2\n",
    "\n",
    "    # 计算边界框的交集\n",
    "    x_left = max(x1, x2)\n",
    "    y_top = max(y1, y2)\n",
    "    x_right = min(x1 + w1, x2 + w2)\n",
    "    y_bottom = min(y1 + h1, y2 + h2)\n",
    "\n",
    "    intersection = max(0, x_right - x_left) * max(0, y_bottom - y_top)\n",
    "\n",
    "    # 计算IoU\n",
    "    iou = intersection / (area1 + area2 - intersection)\n",
    "\n",
    "    return iou\n",
    "\n",
    "def calculate_drift(bbox1, bbox2):\n",
    "    # 计算边界框中心点坐标\n",
    "    cx1, cy1 = bbox1[0] + bbox1[2] / 2, bbox1[1] + bbox1[3] / 2\n",
    "    cx2, cy2 = bbox2[0] + bbox2[2] / 2, bbox2[1] + bbox2[3] / 2\n",
    "\n",
    "    # 计算中心点坐标之间的距离，欧氏距离公式((cx2 - cx1) ** 2 + (cy2 - cy1) ** 2) ** 0.5\n",
    "    drift = ((cx2 - cx1) ** 2 + (cy2 - cy1) ** 2) ** 0.5\n",
    "\n",
    "    return drift\n",
    "\n",
    "video_path = f'{v}.mp4'\n",
    "cap = cv2.VideoCapture(video_path)\n",
    "\n",
    "bbox_gt_path = f'bbox_gt_cleaned{v}.txt'\n",
    "with open(bbox_gt_path, 'r',encoding='utf-8') as f:\n",
    "    bbox_gt_data = f.readlines()\n",
    "# 定义跟踪算法\n",
    "trackers = {\n",
    "    'KCF': cv2.TrackerKCF_create(),\n",
    "    'CSRT': cv2.TrackerCSRT_create(),\n",
    "    'MOSSE': cv2.legacy.TrackerMOSSE_create()\n",
    "}\n",
    "\n",
    "# 初始化统计变量\n",
    "total_frames = len(bbox_gt_data)\n",
    "accuracies = {}\n",
    "processing_times = {}\n",
    "drifts = {}\n",
    "for algo_name, tracker in trackers.items():\n",
    "    cap.set(cv2.CAP_PROP_POS_FRAMES, 0)  # 重置视频帧位置\n",
    "    bbox_gt_idx = 0  # bbox_gt数据集索引\n",
    "    bbox_prev = None  # 上一帧的边界框\n",
    "\n",
    "    # 初始化跟踪器\n",
    "    frame = cap.read()[1]\n",
    "    bbox_gt = [int(coord) for coord in bbox_gt_data[0].split(',')]\n",
    "    bbox = tuple(bbox_gt)\n",
    "    tracker.init(frame, bbox)\n",
    "\n",
    "    # 初始化统计变量\n",
    "    iou_sum = 0\n",
    "    drift_sum = 0\n",
    "    processing_time_sum = 0\n",
    "\n",
    "    # 循环遍历视频帧\n",
    "    for frame_idx in range(1, total_frames):\n",
    "        frame = cap.read()[1]\n",
    "        bbox_gt = [int(coord) for coord in bbox_gt_data[frame_idx].split(',')]\n",
    "\n",
    "        # 跟踪器处理\n",
    "        start_time = cv2.getTickCount()\n",
    "        success, bbox = tracker.update(frame)\n",
    "        end_time = cv2.getTickCount()\n",
    "        processing_time = (end_time - start_time) / cv2.getTickFrequency()\n",
    "\n",
    "        if success:\n",
    "            # 计算准确率（IoU）\n",
    "            iou = calculate_iou(bbox, bbox_gt)\n",
    "            iou_sum += iou\n",
    "\n",
    "            # 计算跟踪漂移\n",
    "            if bbox_prev is not None:\n",
    "                drift = calculate_drift(bbox, bbox_prev)\n",
    "                drift_sum += drift\n",
    "\n",
    "            # 更新上一帧边界框\n",
    "            bbox_prev = bbox\n",
    "\n",
    "        # 更新统计变量\n",
    "        processing_time_sum += processing_time\n",
    "\n",
    "    # 计算平均准确率和平均跟踪漂移\n",
    "    mean_iou = iou_sum / total_frames\n",
    "    mean_drift = drift_sum / (total_frames - 1)\n",
    "    mean_processing_time = processing_time_sum / total_frames\n",
    "\n",
    "    # 记录结果\n",
    "    accuracies[algo_name] = mean_iou\n",
    "    drifts[algo_name] = mean_drift\n",
    "    processing_times[algo_name] = mean_processing_time\n",
    "    print(f'测试视频：{v}.mp4')\n",
    "    print(f'算法: {algo_name}')\n",
    "    print(f'平均准确率: {mean_iou}')\n",
    "    print(f'平均跟踪漂移: {mean_drift}')\n",
    "    print(f'平均处理时间: {mean_processing_time}')\n",
    "\n",
    "# 释放视频\n",
    "cap.release()"
   ]
  },
  {
   "cell_type": "markdown",
   "id": "060079e3",
   "metadata": {},
   "source": [
    "# 三、对测试数据进行分析"
   ]
  },
  {
   "cell_type": "markdown",
   "id": "55b995f1",
   "metadata": {},
   "source": [
    "### 对于fast：苏炳添9.83夺冠后程冲刺视频；特点：物体运动速度快、背景变化小、物体持续形变、冲刺重点有物体重合（遮挡）、存在相似目标"
   ]
  },
  {
   "cell_type": "code",
   "execution_count": 10,
   "id": "bcdf3bf5",
   "metadata": {},
   "outputs": [
    {
     "data": {
      "image/png": "[encoded data removed]",
      "text/plain": [
       "<Figure size 640x480 with 3 Axes>"
      ]
     },
     "metadata": {},
     "output_type": "display_data"
    }
   ],
   "source": [
    "# 算法名称和对应的统计数据\n",
    "algorithm_names = ['KCF', 'CSRT', 'MOSSE']\n",
    "mean_iou_values = [0.5187299525419178,  0.5764476464394128, 0.006430868167202572]\n",
    "mean_drift_values = [2.6879204070139404, 3.8444089804082027, 0.0]\n",
    "mean_processing_time_values = [0.005294556666666667,  0.03243578222222222, 0.0003980044444444444]\n",
    "\n",
    "# 创建一个Figure对象和三个子图\n",
    "fig, axs = plt.subplots(3)\n",
    "\n",
    "# 绘制平均准确率的柱状图\n",
    "axs[0].bar(algorithm_names, mean_iou_values)\n",
    "axs[0].set_title('Mean IoU')\n",
    "\n",
    "# 绘制平均跟踪漂移的柱状图\n",
    "axs[1].bar(algorithm_names, mean_drift_values)\n",
    "axs[1].set_title('Mean Drift')\n",
    "\n",
    "# 绘制平均处理时间的柱状图\n",
    "axs[2].bar(algorithm_names, mean_processing_time_values)\n",
    "axs[2].set_title('Mean Processing Time')\n",
    "\n",
    "# 调整子图之间的间距\n",
    "plt.subplots_adjust(hspace=0.5)\n",
    "\n",
    "# 显示图形\n",
    "plt.show()"
   ]
  },
  {
   "cell_type": "markdown",
   "id": "bf81bfd5",
   "metadata": {},
   "source": [
    "<p>测试视频：fast.mp4\n",
    "<p>算法: KCF\n",
    "<p>平均准确率: 0.5187299525419178\n",
    "<p>平均跟踪漂移: 2.6879204070139404\n",
    "<p>平均处理时间: 0.005294556666666667\n",
    "<p>测试视频：fast.mp4\n",
    "<p>算法: CSRT\n",
    "<p>平均准确率: 0.5764476464394128\n",
    "<p>平均跟踪漂移: 3.8444089804082027\n",
    "<p>平均处理时间: 0.03243578222222222\n",
    "<p>测试视频：fast.mp4\n",
    "<p>算法: MOSSE\n",
    "<p>平均准确率: 0.006430868167202572\n",
    "<p>平均跟踪漂移: 0.0\n",
    "<p>平均处理时间: 0.0003980044444444444"
   ]
  },
  {
   "cell_type": "markdown",
   "id": "241c2c35",
   "metadata": {},
   "source": [
    "##### 由上述实验数据显示，对于物体运动速度快、背景变化小、物体持续形变、冲刺重点有物体重合等特点的运动物体，KCF算法跟踪漂移最小，准确率也较高，而 MOSSE算法根本就没有捕捉到想要跟踪的物体，原因是对于短跑冲刺每个运动员在高速运动中，对于MOSSE算法视为相似物体，所以跟踪失败，但是MOSSE算法处理速度是三种算法中最快的，CSRT算法准确率最高，但速度最慢"
   ]
  },
  {
   "cell_type": "markdown",
   "id": "5e15ebf7",
   "metadata": {},
   "source": [
    "### 对于deformation：王者荣耀花木兰单杀吕布视频；特点：物体形变大，且物体光照变化，物体有部分遮挡、颜色变化大"
   ]
  },
  {
   "cell_type": "code",
   "execution_count": 11,
   "id": "470c51c7",
   "metadata": {},
   "outputs": [
    {
     "data": {
      "image/png": "[encoded data removed]",
      "text/plain": [
       "<Figure size 640x480 with 3 Axes>"
      ]
     },
     "metadata": {},
     "output_type": "display_data"
    }
   ],
   "source": [
    "# 算法名称和对应的统计数据\n",
    "algorithm_names = ['KCF', 'CSRT', 'MOSSE']\n",
    "mean_iou_values = [0.4572715101882451, 0.4900513079676318, 0.535323975052555]\n",
    "mean_drift_values = [5.158578188036686,6.895460581970102,4.081503641406115]\n",
    "mean_processing_time_values = [0.014242626415094342,  0.07489726132075471,0.002713100943396226]\n",
    "\n",
    "# 创建一个Figure对象和三个子图\n",
    "fig, axs = plt.subplots(3)\n",
    "\n",
    "# 绘制平均准确率的柱状图\n",
    "axs[0].bar(algorithm_names, mean_iou_values)\n",
    "axs[0].set_title('Mean IoU')\n",
    "\n",
    "# 绘制平均跟踪漂移的柱状图\n",
    "axs[1].bar(algorithm_names, mean_drift_values)\n",
    "axs[1].set_title('Mean Drift')\n",
    "\n",
    "# 绘制平均处理时间的柱状图\n",
    "axs[2].bar(algorithm_names, mean_processing_time_values)\n",
    "axs[2].set_title('Mean Processing Time')\n",
    "\n",
    "# 调整子图之间的间距\n",
    "plt.subplots_adjust(hspace=0.5)\n",
    "\n",
    "# 显示图形\n",
    "plt.show()"
   ]
  },
  {
   "cell_type": "markdown",
   "id": "c43751a5",
   "metadata": {},
   "source": [
    "<p>测试视频：deformation.mp4\n",
    "<p>算法: KCF\n",
    "<p>平均准确率: 0.4572715101882451\n",
    "<p>平均跟踪漂移: 5.158578188036686\n",
    "<p>平均处理时间: 0.014242626415094342\n",
    "<p>测试视频：deformation.mp4\n",
    "<p>算法: CSRT\n",
    "<p>平均准确率: 0.4900513079676318\n",
    "<p>平均跟踪漂移: 6.895460581970102\n",
    "<p>平均处理时间: 0.07489726132075471\n",
    "<p>测试视频：deformation.mp4\n",
    "<p>算法: MOSSE\n",
    "<p>平均准确率: 0.535323975052555\n",
    "<p>平均跟踪漂移: 4.081503641406115\n",
    "<p>平均处理时间: 0.002713100943396226"
   ]
  },
  {
   "cell_type": "markdown",
   "id": "45aeb261",
   "metadata": {},
   "source": [
    "##### 由上述实验数据显示，对于物体形变较大、出现遮挡，MOSSE算法的跟踪漂移最小，准确率最高，具有很好的效果，其次就是CSRT算法的效果较好，相比较而言KCF算法在对于光照变化和形变较大的目标、表现欠佳。处理速度方面最快的还是MOSSE，最慢的还是CSRT。"
   ]
  },
  {
   "cell_type": "markdown",
   "id": "046def44",
   "metadata": {},
   "source": [
    "### 对于face：本人人脸视频：；特点：物体移动缓慢、物体变化小，背景变化小"
   ]
  },
  {
   "cell_type": "code",
   "execution_count": 12,
   "id": "d4a5d651",
   "metadata": {},
   "outputs": [
    {
     "data": {
      "image/png": "[encoded data removed]",
      "text/plain": [
       "<Figure size 640x480 with 3 Axes>"
      ]
     },
     "metadata": {},
     "output_type": "display_data"
    }
   ],
   "source": [
    "# 算法名称和对应的统计数据\n",
    "algorithm_names = ['KCF', 'CSRT', 'MOSSE']\n",
    "mean_iou_values = [0.5573870607164543, 0.45997626355303933,0.585308240327307]\n",
    "mean_drift_values = [9.92312463470653,14.67867102184568,15.008022041731516]\n",
    "mean_processing_time_values = [0.15329220294117646,  0.43380266274509827,0.028129876470588244]\n",
    "\n",
    "# 创建一个Figure对象和三个子图\n",
    "fig, axs = plt.subplots(3)\n",
    "\n",
    "# 绘制平均准确率的柱状图\n",
    "axs[0].bar(algorithm_names, mean_iou_values)\n",
    "axs[0].set_title('Mean IoU')\n",
    "\n",
    "# 绘制平均跟踪漂移的柱状图\n",
    "axs[1].bar(algorithm_names, mean_drift_values)\n",
    "axs[1].set_title('Mean Drift')\n",
    "\n",
    "# 绘制平均处理时间的柱状图\n",
    "axs[2].bar(algorithm_names, mean_processing_time_values)\n",
    "axs[2].set_title('Mean Processing Time')\n",
    "\n",
    "# 调整子图之间的间距\n",
    "plt.subplots_adjust(hspace=0.5)\n",
    "\n",
    "# 显示图形\n",
    "plt.show()"
   ]
  },
  {
   "cell_type": "markdown",
   "id": "cd4c6621",
   "metadata": {},
   "source": [
    "<p>测试视频：face.mp4\n",
    "<p>算法: KCF\n",
    "<p>平均准确率: 0.5573870607164543\n",
    "<p>平均跟踪漂移: 9.92312463470653\n",
    "<p>平均处理时间: 0.15329220294117646\n",
    "<p>测试视频：face.mp4\n",
    "<p>算法: CSRT\n",
    "<p>平均准确率: 0.45997626355303933\n",
    "<p>平均跟踪漂移: 14.67867102184568\n",
    "<p>平均处理时间: 0.43380266274509827\n",
    "<p>测试视频：face.mp4\n",
    "<p>算法: MOSSE\n",
    "<p>平均准确率: 0.585308240327307\n",
    "<p>平均跟踪漂移: 15.008022041731516\n",
    "<p>平均处理时间: 0.028129876470588244"
   ]
  },
  {
   "cell_type": "markdown",
   "id": "5850ae63",
   "metadata": {},
   "source": [
    "##### 由上述实验数据显示，对于物体移动缓慢、物体变化小，背景变化小，CSRT算法的表现就不如另外两种算法，其中MOSSE算法准确率竟然接近60%，可见MOSSE算法对于这种情况更为实用"
   ]
  },
  {
   "cell_type": "markdown",
   "id": "1bcf75d7",
   "metadata": {},
   "source": [
    "### 对于background：夜店跳舞视频；特点：背景变化、光线暗且有变化、物体有形变"
   ]
  },
  {
   "cell_type": "code",
   "execution_count": 13,
   "id": "ff2d2215",
   "metadata": {},
   "outputs": [
    {
     "data": {
      "image/png": "[encoded data removed]",
      "text/plain": [
       "<Figure size 640x480 with 3 Axes>"
      ]
     },
     "metadata": {},
     "output_type": "display_data"
    }
   ],
   "source": [
    "# 算法名称和对应的统计数据\n",
    "algorithm_names = ['KCF', 'CSRT', 'MOSSE']\n",
    "mean_iou_values = [0.355290786344998, 0.4619042538046963,0.6263443428414269]\n",
    "mean_drift_values = [5.963523873527226,10.198565576432532,2.583502124013772]\n",
    "mean_processing_time_values = [0.08740756421052634,0.15207775157894735,0.017985148421052623]\n",
    "\n",
    "# 创建一个Figure对象和三个子图\n",
    "fig, axs = plt.subplots(3)\n",
    "\n",
    "# 绘制平均准确率的柱状图\n",
    "axs[0].bar(algorithm_names, mean_iou_values)\n",
    "axs[0].set_title('Mean IoU')\n",
    "\n",
    "# 绘制平均跟踪漂移的柱状图\n",
    "axs[1].bar(algorithm_names, mean_drift_values)\n",
    "axs[1].set_title('Mean Drift')\n",
    "\n",
    "# 绘制平均处理时间的柱状图\n",
    "axs[2].bar(algorithm_names, mean_processing_time_values)\n",
    "axs[2].set_title('Mean Processing Time')\n",
    "\n",
    "# 调整子图之间的间距\n",
    "plt.subplots_adjust(hspace=0.5)\n",
    "\n",
    "# 显示图形\n",
    "plt.show()"
   ]
  },
  {
   "cell_type": "markdown",
   "id": "efd815b9",
   "metadata": {},
   "source": [
    "<p>测试视频：background.mp4\n",
    "<p>算法: KCF\n",
    "<p>平均准确率: 0.355290786344998\n",
    "<p>平均跟踪漂移: 5.963523873527226\n",
    "<p>平均处理时间: 0.08740756421052634\n",
    "<p>测试视频：background.mp4\n",
    "<p>算法: CSRT\n",
    "<p>平均准确率: 0.4619042538046963\n",
    "<p>平均跟踪漂移: 10.198565576432532\n",
    "<p>平均处理时间: 0.15207775157894735\n",
    "<p>测试视频：background.mp4\n",
    "<p>算法: MOSSE\n",
    "<p>平均准确率: 0.6263443428414269\n",
    "<p>平均跟踪漂移: 2.583502124013772\n",
    "<p>平均处理时间: 0.017985148421052623"
   ]
  },
  {
   "cell_type": "markdown",
   "id": "3bbd4dd3",
   "metadata": {},
   "source": [
    "##### 上述验数据显示，对于背景变化、光线暗且有变化、物体有形变，MOSSE算法准确率远高于其他两种算法，跟踪漂移也是最小的，处理速度也是最快，相比较而言CSRT算法准确率较好，KCF是处理效果是最差的；处理速度最快的还是MOSSE，最慢的还是CSRT。"
   ]
  },
  {
   "cell_type": "markdown",
   "id": "6683e368",
   "metadata": {},
   "source": [
    "# 四、结论"
   ]
  },
  {
   "cell_type": "markdown",
   "id": "20894a9e",
   "metadata": {},
   "source": [
    "综合来看，<p>KCF算法在尺度变化小和部分遮挡、物体运动速度快情况下具有较好的效果，但对于光照变化和形变较大的目标表现欠佳；适用场景：追踪速度要求较高、目标有较小形变和光照变化的场景，如运动物体追踪<p>\n",
    "       <p>CSRT算法对于光照变化和一定程度的目标形变有较好的效果，但在处理目标尺度变化和完全遮挡方面相对薄弱，并且处理速度相对与另外两种算法速度慢；适用场景：一定程度形变和遮挡的目标跟踪，如车辆追踪、行人检测<p>\n",
    "       <p>MOSSE算法计算速度非常快，对于光照变化和部分遮挡等问题具有较好的效果，但在存在相似目标的情况下，可能会出现错误跟踪；适用场景：目标形变和光照变化较小的场景，如手势识别<p>"
   ]
  },
  {
   "cell_type": "markdown",
   "id": "962563ef",
   "metadata": {},
   "source": [
    "# 五、误差以及偶然性"
   ]
  },
  {
   "cell_type": "markdown",
   "id": "15475711",
   "metadata": {},
   "source": [
    "由于测试视频的特点和数据量小，还有每个视频帧中手动标注都会产生误差，所以算法中的优点以及缺点都有一些没有体现出来，也存在一定的偶然性，但是在大量数据和时间下相信会对比的更好"
   ]
  },
  {
   "cell_type": "code",
   "execution_count": null,
   "id": "66e33321",
   "metadata": {},
   "outputs": [],
   "source": []
  },
  {
   "cell_type": "code",
   "execution_count": null,
   "id": "1a43eb49",
   "metadata": {},
   "outputs": [],
   "source": []
  }
 ],
 "metadata": {
  "kernelspec": {
   "display_name": "Python 3 (ipykernel)",
   "language": "python",
   "name": "python3"
  },
  "language_info": {
   "codemirror_mode": {
    "name": "ipython",
    "version": 3
   },
   "file_extension": ".py",
   "mimetype": "text/x-python",
   "name": "python",
   "nbconvert_exporter": "python",
   "pygments_lexer": "ipython3",
   "version": "3.8.13"
  }
 },
 "nbformat": 4,
 "nbformat_minor": 5
}
